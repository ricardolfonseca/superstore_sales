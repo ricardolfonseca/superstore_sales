{
 "cells": [
  {
   "cell_type": "markdown",
   "id": "8a40e7ee-0264-4531-97cd-61646c2eee9f",
   "metadata": {
    "panel-layout": {
     "height": 346.8999938964844,
     "visible": true,
     "width": 100
    }
   },
   "source": [
    "## Exploratory Data Analysis (EDA)\n",
    "In this section, we perform an exploratory analysis of the `superstore_sales` dataset using SQL queries. The goal is to uncover patterns, trends, and insights from the data. Each query addresses a specific business question and is designed to provide actionable information for decision-making.\n",
    "\n",
    "### Key Questions Explored:\n",
    "1. **Total Sales by Region**: Which regions generate the most sales?\n",
    "2. **Top Product Sub-Categories**: What are the top-performing product sub-categories by sales?\n",
    "3. **Top Customers**: Who are the top customers contributing to revenue?\n",
    "4. **Sales Trends Over Time**: How have sales evolved monthly?\n",
    "5. **Most Popular Ship Modes**: Which shipping modes are most frequently used?\n",
    "6. **Sales by City**: Which cities contribute the most to sales?\n",
    "7. **Delivery Times**: What are the average delivery times for different shipping modes?\n",
    "8. **Sales by Customer Segment**: How do customer segments contribute to sales?\n",
    "9. **Top Products**: Which products are the best sellers?\n",
    "10. **Regional Sales Contribution**: What percentage of total sales does each region contribute?\n",
    "\n",
    "Each query is followed by its result.\n"
   ]
  },
  {
   "cell_type": "markdown",
   "id": "95ede41c-706c-44af-826d-b2bb3fc20c03",
   "metadata": {
    "panel-layout": {
     "height": 354.1000061035156,
     "visible": true,
     "width": 100
    }
   },
   "source": [
    "## Running Queries in pgAdmin\n",
    "\n",
    "The following SQL queries are designed to explore the `superstore_sales` database. Before running these queries, the user must ensure the database is properly set up by following these steps:\n",
    "\n",
    "### Setup Instructions:\n",
    "1. Run the `main.py` script to create and load the initial `sales_data` table into PostgreSQL.\n",
    "2. Open the `DB_normalizing.ipynb` notebook and execute the database normalization queries in **pgAdmin** to normalize the database structure.\n",
    "\n",
    "### Database Details:\n",
    "- **Database Name**: `superstore_sales`\n",
    "- **Host**: `localhost`\n",
    "- **Port**: `5432`\n",
    "- **Tables**:\n",
    "  - `sales`: Contains transactional data and order details (e.g., sales, order dates, product IDs, customer IDs).\n",
    "  - `customers`: Contains customer information (e.g., name, segment).\n",
    "  - `products`: Contains product details (e.g., name, category).\n",
    "  - `locations`: Stores geographical data (e.g., region, state, city).\n",
    "\n",
    "### Query Execution:\n",
    "Once the database setup is complete, you can use the provided SQL queries in **pgAdmin**. \n",
    "\n",
    "### Steps to Execute Queries:\n",
    "1. Open **pgAdmin** and connect to the `superstore_sales` database using the above details.\n",
    "2. Execute the SQL queries provided in this notebook or your EDA workflow.\n",
    "3. Review and export the results as needed for further analysis or visualization."
   ]
  },
  {
   "cell_type": "code",
   "execution_count": null,
   "id": "706ac7bf",
   "metadata": {
    "vscode": {
     "languageId": "sql"
    }
   },
   "outputs": [],
   "source": [
    "-- What is the total sales by region?\n",
    "SELECT region, SUM(s.sales) AS total_sales\n",
    "FROM sales s\n",
    "JOIN locations l ON s.postal_code = l.postal_code\n",
    "GROUP BY region\n",
    "ORDER BY total_sales DESC;"
   ]
  },
  {
   "cell_type": "markdown",
   "id": "c8091e40",
   "metadata": {},
   "source": [
    "| Region   | Total Sales   |\n",
    "|----------|---------------|\n",
    "| West     | 710,219.68    |\n",
    "| East     | 669,518.73    |\n",
    "| Central  | 492,646.91    |\n",
    "| South    | 389,151.46    |\n"
   ]
  },
  {
   "cell_type": "code",
   "execution_count": null,
   "id": "8f0cec5e",
   "metadata": {
    "vscode": {
     "languageId": "sql"
    }
   },
   "outputs": [],
   "source": [
    "-- What are the top 5 product sub-categories by sales?\n",
    "SELECT p.sub_category, SUM(s.sales) AS total_sales\n",
    "FROM sales s\n",
    "JOIN products p ON s.product_id = p.product_id\n",
    "GROUP BY p.sub_category\n",
    "ORDER BY total_sales DESC\n",
    "LIMIT 5;"
   ]
  },
  {
   "cell_type": "markdown",
   "id": "21640a32",
   "metadata": {},
   "source": [
    "| Sub-Category | Total Sales   |\n",
    "|--------------|---------------|\n",
    "| Phones       | 327,782.45    |\n",
    "| Chairs       | 322,822.73    |\n",
    "| Storage      | 219,343.39    |\n",
    "| Tables       | 202,810.63    |\n",
    "| Binders      | 200,028.79    |"
   ]
  },
  {
   "cell_type": "code",
   "execution_count": null,
   "id": "50ef61fa",
   "metadata": {
    "vscode": {
     "languageId": "sql"
    }
   },
   "outputs": [],
   "source": [
    "-- Who are the top 10 customers and their segment by total sales?\n",
    "SELECT c.customer_name, c.segment, SUM(s.sales) AS total_sales\n",
    "FROM sales s\n",
    "JOIN customers c ON s.customer_id = c.customer_id\n",
    "GROUP BY c.customer_name, c.segment\n",
    "ORDER BY total_sales DESC\n",
    "LIMIT 10;"
   ]
  },
  {
   "cell_type": "markdown",
   "id": "00307492",
   "metadata": {},
   "source": [
    "| Customer Name          | Segment       | Total Sales   |\n",
    "|------------------------|---------------|---------------|\n",
    "| Sean Miller            | Home Office   | 25,043.05     |\n",
    "| Tamara Chand           | Corporate     | 19,052.22     |\n",
    "| Raymond Buch           | Consumer      | 15,117.34     |\n",
    "| Tom Ashbrook           | Home Office   | 14,595.62     |\n",
    "| Adrian Barton          | Consumer      | 14,473.57     |\n",
    "| Ken Lonsdale           | Consumer      | 14,175.23     |\n",
    "| Sanjit Chand           | Consumer      | 14,142.33     |\n",
    "| Hunter Lopez           | Consumer      | 12,873.30     |\n",
    "| Sanjit Engle           | Consumer      | 12,209.44     |\n",
    "| Christopher Conant     | Consumer      | 12,129.07     |"
   ]
  },
  {
   "cell_type": "code",
   "execution_count": null,
   "id": "1777815f",
   "metadata": {
    "vscode": {
     "languageId": "sql"
    }
   },
   "outputs": [],
   "source": [
    "-- What is the monthly trend in sales over time?\n",
    "SELECT TO_CHAR(DATE_TRUNC('month', order_date), 'YYYY/MM') AS month, \n",
    "       ROUND(SUM(sales), 2) AS total_sales\n",
    "FROM sales\n",
    "GROUP BY month\n",
    "ORDER BY month;"
   ]
  },
  {
   "cell_type": "markdown",
   "id": "d2c665e3",
   "metadata": {},
   "source": [
    "![Monthly Trend in Sales Over Time](EDA%20graph_monthly%20trend%20in%20sales%20over%20time.png)"
   ]
  },
  {
   "cell_type": "markdown",
   "id": "6612a063",
   "metadata": {},
   "source": [
    "| Month    | Total Sales   |\n",
    "|----------|---------------|\n",
    "| 2015/01  | 14,205.71     |\n",
    "| 2015/02  | 4,519.89      |\n",
    "| 2015/03  | 55,205.80     |\n",
    "| 2015/04  | 27,906.86     |\n",
    "| 2015/05  | 23,644.30     |\n",
    "| 2015/06  | 34,322.94     |\n",
    "| 2015/07  | 33,781.54     |\n",
    "| 2015/08  | 27,117.54     |\n",
    "| 2015/09  | 81,623.53     |\n",
    "| 2015/10  | 31,453.39     |\n",
    "| 2015/11  | 77,907.66     |\n",
    "| 2015/12  | 68,167.06     |\n",
    "| 2016/01  | 18,066.96     |\n",
    "| 2016/02  | 11,951.41     |\n",
    "| 2016/03  | 32,339.32     |\n",
    "| 2016/04  | 34,154.47     |\n",
    "| 2016/05  | 29,959.53     |\n",
    "| 2016/06  | 23,599.37     |\n",
    "| 2016/07  | 28,608.26     |\n",
    "| 2016/08  | 36,818.34     |\n",
    "| 2016/09  | 63,133.61     |\n",
    "| 2016/10  | 31,011.74     |\n",
    "| 2016/11  | 75,249.40     |\n",
    "| 2016/12  | 74,543.60     |\n",
    "| 2017/01  | 18,542.49     |\n",
    "| 2017/02  | 22,978.82     |\n",
    "| 2017/03  | 51,165.06     |\n",
    "| 2017/04  | 38,679.77     |\n",
    "| 2017/05  | 56,656.91     |\n",
    "| 2017/06  | 39,724.49     |\n",
    "| 2017/07  | 38,320.78     |\n",
    "| 2017/08  | 30,542.20     |\n",
    "| 2017/09  | 69,193.39     |\n",
    "| 2017/10  | 59,583.03     |\n",
    "| 2017/11  | 79,066.50     |\n",
    "| 2017/12  | 95,739.12     |\n",
    "| 2018/01  | 43,476.47     |\n",
    "| 2018/02  | 19,921.00     |\n",
    "| 2018/03  | 58,863.41     |\n",
    "| 2018/04  | 35,541.91     |\n",
    "| 2018/05  | 43,825.98     |\n",
    "| 2018/06  | 48,190.73     |\n",
    "| 2018/07  | 44,825.10     |\n",
    "| 2018/08  | 62,837.85     |\n",
    "| 2018/09  | 86,152.89     |\n",
    "| 2018/10  | 77,448.13     |\n",
    "| 2018/11  | 117,938.16    |\n",
    "| 2018/12  | 83,030.39     |"
   ]
  },
  {
   "cell_type": "code",
   "execution_count": null,
   "id": "cfae0597",
   "metadata": {
    "vscode": {
     "languageId": "sql"
    }
   },
   "outputs": [],
   "source": [
    "-- Which ship mode is used most frequently?\n",
    "SELECT ship_mode, COUNT(*) AS usage_count\n",
    "FROM (SELECT DISTINCT order_id, \n",
    "\t\t\t\t\tship_mode\n",
    "\t\t\t\t\tFROM sales)\n",
    "GROUP BY ship_mode\n",
    "ORDER BY usage_count DESC;"
   ]
  },
  {
   "cell_type": "markdown",
   "id": "97c32f5c",
   "metadata": {},
   "source": [
    "| Ship Mode Name    | Usage Count |\n",
    "|-------------------|-------------|\n",
    "| Standard Class    | 2,945       |\n",
    "| Second Class      | 944         |\n",
    "| First Class       | 772         |\n",
    "| Same Day          | 261         |"
   ]
  },
  {
   "cell_type": "code",
   "execution_count": null,
   "id": "f92b7727",
   "metadata": {
    "vscode": {
     "languageId": "sql"
    }
   },
   "outputs": [],
   "source": [
    "-- Which cities generate the highest sales?\n",
    "SELECT \n",
    "    l.city, \n",
    "    ROUND(SUM(s.sales),2) AS total_sales,\n",
    "    RANK() OVER (ORDER BY SUM(s.sales) DESC) AS rank\n",
    "FROM sales s\n",
    "JOIN locations l ON s.postal_code = l.postal_code\n",
    "GROUP BY l.city\n",
    "ORDER BY rank\n",
    "LIMIT 10;"
   ]
  },
  {
   "cell_type": "markdown",
   "id": "de657ac3",
   "metadata": {},
   "source": [
    "| City             | Total Sales   | Rank |\n",
    "|------------------|---------------|------|\n",
    "| New York City    | 252,462.55    | 1    |\n",
    "| Los Angeles      | 173,420.18    | 2    |\n",
    "| Seattle          | 116,106.32    | 3    |\n",
    "| San Francisco    | 109,041.12    | 4    |\n",
    "| Philadelphia     | 108,841.75    | 5    |\n",
    "| Houston          | 63,956.14     | 6    |\n",
    "| San Diego        | 48,113.01     | 7    |\n",
    "| Chicago          | 47,820.13     | 8    |\n",
    "| Jacksonville     | 44,713.18     | 9    |\n",
    "| Detroit          | 42,446.94     | 10   |"
   ]
  },
  {
   "cell_type": "code",
   "execution_count": null,
   "id": "4f399683",
   "metadata": {
    "vscode": {
     "languageId": "sql"
    }
   },
   "outputs": [],
   "source": [
    "-- What is the average delivery time by ship mode?\n",
    "SELECT ship_mode, \n",
    "    ROUND(AVG(ship_date - order_date), 2) AS avg_delivery_days\n",
    "FROM sales\n",
    "GROUP BY ship_mode\n",
    "ORDER BY avg_delivery_days;"
   ]
  },
  {
   "cell_type": "markdown",
   "id": "8902901c",
   "metadata": {},
   "source": [
    "| Ship Mode Name    | Avg Delivery Days |\n",
    "|-------------------|-------------------|\n",
    "| Same Day          | 0.04             |\n",
    "| First Class       | 2.18             |\n",
    "| Second Class      | 3.25             |\n",
    "| Standard Class    | 5.01             |"
   ]
  },
  {
   "cell_type": "code",
   "execution_count": null,
   "id": "4b67aa47",
   "metadata": {
    "vscode": {
     "languageId": "sql"
    }
   },
   "outputs": [],
   "source": [
    "-- What is the sales breakdown by customer segment and year?\n",
    "SELECT \n",
    "    EXTRACT(YEAR FROM s.order_date) AS year,\n",
    "    c.segment,\n",
    "    ROUND(SUM(s.sales),2) AS total_sales\n",
    "FROM sales AS s\n",
    "JOIN customers AS c\n",
    "ON s.customer_id = c.customer_id\n",
    "GROUP BY year, c.segment\n",
    "ORDER BY year, total_sales DESC;"
   ]
  },
  {
   "cell_type": "markdown",
   "id": "b89e3f88",
   "metadata": {},
   "source": [
    "| Year | Segment       | Total Sales   |\n",
    "|------|---------------|---------------|\n",
    "| 2015 | Consumer      | 262,956.80    |\n",
    "| 2015 | Corporate     | 127,797.50    |\n",
    "| 2015 | Home Office   | 89,101.91     |\n",
    "| 2016 | Consumer      | 265,356.29    |\n",
    "| 2016 | Corporate     | 119,675.60    |\n",
    "| 2016 | Home Office   | 74,404.11     |\n",
    "| 2017 | Consumer      | 291,142.97    |\n",
    "| 2017 | Corporate     | 204,977.32    |\n",
    "| 2017 | Home Office   | 104,072.27    |\n",
    "| 2018 | Consumer      | 328,604.47    |\n",
    "| 2018 | Corporate     | 236,043.66    |\n",
    "| 2018 | Home Office   | 157,403.88    |"
   ]
  },
  {
   "cell_type": "code",
   "execution_count": null,
   "id": "6d3bf447",
   "metadata": {
    "vscode": {
     "languageId": "sql"
    }
   },
   "outputs": [],
   "source": [
    "-- What are the top-selling products?\n",
    "SELECT p. category,\n",
    "\tp.product_name,\n",
    "\tROUND(SUM(s.sales),2) AS total_sales\n",
    "FROM sales s\n",
    "JOIN products p ON s.product_id = p.product_id\n",
    "GROUP BY p.category, p.product_name\n",
    "ORDER BY total_sales DESC\n",
    "LIMIT 10;"
   ]
  },
  {
   "cell_type": "markdown",
   "id": "1b792124",
   "metadata": {},
   "source": [
    "| Category          | Product Name                                                           | Total Sales   |\n",
    "|-------------------|------------------------------------------------------------------------|---------------|\n",
    "| Technology        | Canon imageCLASS 2200 Advanced Copier                                  | 61,599.82     |\n",
    "| Office Supplies   | Fellowes PB500 Electric Punch Plastic Comb Binding Machine with Manual Bind | 27,453.38     |\n",
    "| Technology        | Cisco TelePresence System EX90 Videoconferencing Unit                 | 22,638.48     |\n",
    "| Furniture         | HON 5400 Series Task Chairs for Big and Tall                          | 21,870.58     |\n",
    "| Office Supplies   | GBC DocuBind TL300 Electric Binding System                            | 19,823.48     |\n",
    "| Office Supplies   | GBC Ibimaster 500 Manual ProClick Binding System                      | 19,024.50     |\n",
    "| Technology        | Hewlett Packard LaserJet 3310 Copier                                  | 18,839.69     |\n",
    "| Technology        | HP Designjet T520 Inkjet Large Format Printer - 24\" Color             | 18,374.89     |\n",
    "| Office Supplies   | GBC DocuBind P400 Electric Binding System                             | 17,965.07     |\n",
    "| Office Supplies   | High Speed Automatic Electric Letter Opener                           | 17,030.31     |"
   ]
  },
  {
   "cell_type": "code",
   "execution_count": null,
   "id": "d42855ae",
   "metadata": {
    "vscode": {
     "languageId": "sql"
    }
   },
   "outputs": [],
   "source": [
    "-- What percentage of total sales is contributed by each region?\n",
    "WITH region_sales AS (\n",
    "    SELECT region, SUM(s.sales) AS total_sales\n",
    "    FROM sales s\n",
    "    JOIN locations l ON s.postal_code = l.postal_code\n",
    "    GROUP BY region\n",
    ")\n",
    "SELECT region, total_sales, \n",
    "       ROUND((total_sales * 100.0 / SUM(total_sales) OVER()), 2) AS percentage_of_total_sales\n",
    "FROM region_sales\n",
    "ORDER BY percentage_of_total_sales DESC;"
   ]
  },
  {
   "cell_type": "markdown",
   "id": "e40de3bb",
   "metadata": {},
   "source": [
    "| Region   | Total Sales   | Percentage of Total Sales (%) |\n",
    "|----------|---------------|-------------------------------|\n",
    "| West     | 710,219.68    | 31.40                        |\n",
    "| East     | 669,518.73    | 29.60                        |\n",
    "| Central  | 492,646.91    | 21.78                        |\n",
    "| South    | 389,151.46    | 17.21                        |"
   ]
  },
  {
   "cell_type": "markdown",
   "id": "81f70423",
   "metadata": {},
   "source": [
    "## Summary of Findings\n",
    "\n",
    "The exploratory data analysis of the `superstore_sales` dataset revealed key insights into the business's performance and dynamics:\n",
    "\n",
    "### 1. Regional Sales Distribution\n",
    "- The **West** region contributed the most to total sales (**31.40%**), followed by the **East** (**29.60%**).\n",
    "- The **Central** and **South** regions accounted for **21.78%** and **17.21%**, respectively.\n",
    "\n",
    "### 2. Top Product Sub-Categories\n",
    "- **Phones** generated the highest revenue (**$327,782.45**), followed by **Chairs** (**$322,822.73**).\n",
    "- Other top sub-categories include **Storage**, **Tables**, and **Binders**, highlighting the importance of technology and office supplies.\n",
    "\n",
    "### 3. Top Customers\n",
    "- The highest-spending customer was **Sean Miller**, with total sales of **$25,043.05**.\n",
    "- **Tamara Chand** and **Raymond Buch** followed, contributing **$19,052.22** and **$15,117.34**, respectively.\n",
    "\n",
    "### 4. Sales Trends Over Time\n",
    "- Sales show seasonal peaks, particularly in **September** and **November**.\n",
    "- **2018** was the best-performing year, with **November 2018** achieving the highest monthly revenue of **$117,938.16**.\n",
    "\n",
    "### 5. Shipping Performance\n",
    "- **Standard Class** was the most utilized shipping mode (**2,945 orders**) but had the longest average delivery time (**5.01 days**).\n",
    "- **Same Day** shipping, though less common (**261 orders**), had the fastest average delivery time (**0.04 days**).\n",
    "\n",
    "### 6. City-Level Analysis\n",
    "- **New York City** generated the most sales (**$252,462.55**), followed by **Los Angeles** (**$173,420.18**) and **Seattle** (**$116,106.32**).\n",
    "- The top 10 cities represent a significant portion of overall sales, emphasizing the importance of urban markets.\n",
    "\n",
    "### 7. Segment and Category Insights\n",
    "- The **Consumer** segment consistently outperformed the **Corporate** and **Home Office** segments in total sales.\n",
    "- In the product category analysis, **Technology** items, like the \"Canon imageCLASS 2200 Advanced Copier,\" topped sales, generating **$61,599.82** individually."
   ]
  }
 ],
 "metadata": {
  "kernelspec": {
   "display_name": "base",
   "language": "python",
   "name": "python3"
  },
  "language_info": {
   "codemirror_mode": {
    "name": "ipython",
    "version": 3
   },
   "file_extension": ".py",
   "mimetype": "text/x-python",
   "name": "python",
   "nbconvert_exporter": "python",
   "pygments_lexer": "ipython3",
   "version": "3.12.7"
  },
  "panel-cell-order": [
   "95ede41c-706c-44af-826d-b2bb3fc20c03",
   "8a40e7ee-0264-4531-97cd-61646c2eee9f"
  ]
 },
 "nbformat": 4,
 "nbformat_minor": 5
}
