{
 "cells": [
  {
   "cell_type": "markdown",
   "id": "9a7f3846",
   "metadata": {},
   "source": [
    "## Procedures, Triggers and Views\n",
    "\n",
    "This notebook focuses on enhancing the functionality and usability of the Superstore Sales database through the implementation of **stored procedures**, **triggers**, and **views** in PostgreSQL. These components are designed to automate common tasks, simplify complex queries, and provide a more efficient way to analyze sales data.\n",
    "\n",
    "- **Stored Procedures**: Encapsulate business logic for calculating total sales and updating promotions.\n",
    "- **Triggers**: Automate the assignment of promotions during data insertion, ensuring consistency.\n",
    "- **Views**: Provide a reusable and comprehensive summary of sales data, simplifying analysis.\n",
    "\n",
    "By leveraging these database features, the project aims to improve data management, streamline workflows, and enable deeper insights into sales performance.\n",
    "\n",
    "---"
   ]
  },
  {
   "cell_type": "markdown",
   "id": "bea181b5",
   "metadata": {},
   "source": [
    "## Running Queries in pgAdmin\n",
    "\n",
    "The following SQL queries are designed to explore the `superstore_sales` database. Before running these queries, the user must ensure the database is properly set up by following these steps:\n",
    "\n",
    "### Setup Instructions:\n",
    "1. Run the `main.py` script to create and load the initial `sales_data` table into PostgreSQL.\n",
    "2. Open **pgAdmin** and connect to the `superstore_sales` database using the details below.\n",
    "\n",
    "### Query Execution:\n",
    "Once the database setup is complete, you can use the provided SQL queries in **pgAdmin**. \n",
    "\n",
    "### Database Details:\n",
    "- **Database Name**: `superstore_sales`\n",
    "- **Host**: `localhost`\n",
    "- **Port**: `5432`\n",
    "- **Table**: `sales_data`\n",
    "\n",
    "---"
   ]
  },
  {
   "cell_type": "markdown",
   "id": "2f9c1f19",
   "metadata": {},
   "source": [
    "## Stored Procedures\n",
    "\n",
    "### 1. Update `promo_id` for a Specific Product Category and Date Range\n",
    "This procedure updates the `promo_id` in the `sales` table for rows that match a specific product category and fall within the promotion's date range."
   ]
  },
  {
   "cell_type": "code",
   "execution_count": null,
   "id": "e0a63d75",
   "metadata": {
    "vscode": {
     "languageId": "sql"
    }
   },
   "outputs": [],
   "source": [
    "CREATE OR REPLACE PROCEDURE update_promo_id_for_category(\n",
    "    IN promo_id INT, \n",
    "    IN category_name VARCHAR(50), \n",
    "    IN start_date DATE, \n",
    "    IN end_date DATE)\n",
    "LANGUAGE plpgsql\n",
    "AS $$\n",
    "BEGIN\n",
    "    -- Update promo_id for sales that match the product category and date range\n",
    "    UPDATE sales s\n",
    "    SET promo_id = update_promo_id_for_category.promo_id\n",
    "    FROM products p\n",
    "    WHERE s.product_id = p.product_id\n",
    "      AND p.category = update_promo_id_for_category.category_name\n",
    "      AND s.order_date BETWEEN update_promo_id_for_category.start_date AND update_promo_id_for_category.end_date;\n",
    "\n",
    "    -- Output the number of rows updated\n",
    "    RAISE NOTICE 'Updated promo_id to % for % sales in category \"%\" between % and %', \n",
    "        promo_id, ROW_COUNT, category_name, start_date, end_date;\n",
    "END;\n",
    "$$;"
   ]
  },
  {
   "cell_type": "markdown",
   "id": "2cdfc598",
   "metadata": {},
   "source": [
    "- Calling the procedure (example with `promo_id` 2):"
   ]
  },
  {
   "cell_type": "code",
   "execution_count": null,
   "id": "ef459c5a",
   "metadata": {
    "vscode": {
     "languageId": "sql"
    }
   },
   "outputs": [],
   "source": [
    "CALL update_promo_id_for_category(2, 'Office Supplies', '2023-08-01', '2023-08-31');\n",
    "-- Output: NOTICE:  Updated promo_id to 2 for 150 sales in category \"Office Supplies\" between 2023-08-01 and 2023-08-31"
   ]
  },
  {
   "cell_type": "markdown",
   "id": "f9d6add2",
   "metadata": {},
   "source": [
    "### 2. Calculate Total Sales for a Promotion\n",
    "This procedure calculates the total sales for a given promotion (`promo_id`)."
   ]
  },
  {
   "cell_type": "code",
   "execution_count": null,
   "id": "a81307d5",
   "metadata": {
    "vscode": {
     "languageId": "sql"
    }
   },
   "outputs": [],
   "source": [
    "CREATE OR REPLACE PROCEDURE calculate_total_sales_for_promotion_with_name(\n",
    "    IN promo_id INT, \n",
    "    OUT promo_name VARCHAR(100), \n",
    "    OUT total_sales DECIMAL(10, 2))\n",
    "LANGUAGE plpgsql\n",
    "AS $$\n",
    "BEGIN\n",
    "    -- Get the promotion name and calculate total sales\n",
    "    SELECT p.promo_name, SUM(s.sales) INTO promo_name, total_sales\n",
    "    FROM sales AS s\n",
    "    JOIN promotions AS p\n",
    "\tON s.promo_id = p.promo_id\n",
    "    WHERE s.promo_id = p.promo_id\n",
    "    GROUP BY p.promo_name;\n",
    "\n",
    "    -- If no sales are found, set total_sales to 0 and promo_name to 'Unknown'\n",
    "    IF total_sales IS NULL THEN\n",
    "        total_sales := 0;\n",
    "        promo_name := 'Unknown';\n",
    "    END IF;\n",
    "\n",
    "    -- Output the result\n",
    "    RAISE NOTICE 'Total sales for promotion \"%\" (ID %): %', promo_name, promo_id, total_sales;\n",
    "END;\n",
    "$$;"
   ]
  },
  {
   "cell_type": "markdown",
   "id": "5e3ec3a2",
   "metadata": {},
   "source": [
    "- Calling the procedure (example with `promo_id` 2):"
   ]
  },
  {
   "cell_type": "code",
   "execution_count": null,
   "id": "29882d9e",
   "metadata": {
    "vscode": {
     "languageId": "sql"
    }
   },
   "outputs": [],
   "source": [
    "-- Call the enhanced procedure for promotion ID 2\n",
    "CALL calculate_total_sales_for_promotion_with_name(2, NULL, NULL);"
   ]
  },
  {
   "cell_type": "markdown",
   "id": "9bda69d1",
   "metadata": {},
   "source": [
    "## Trigger\n",
    "\n",
    "### 1. Automatically Assign `promo_id` on Insert\n",
    "This trigger automatically assigns the appropriate `promo_id` when inserting rows into the `sales` table based on the product category and order date."
   ]
  },
  {
   "cell_type": "code",
   "execution_count": null,
   "id": "8322b2f3",
   "metadata": {
    "vscode": {
     "languageId": "sql"
    }
   },
   "outputs": [],
   "source": [
    "CREATE OR REPLACE FUNCTION assign_promo_id()\n",
    "RETURNS TRIGGER\n",
    "LANGUAGE plpgsql\n",
    "AS $$\n",
    "BEGIN\n",
    "    -- Find the applicable promotion for the product category and order date\n",
    "    SELECT promo_id INTO NEW.promo_id\n",
    "    FROM promotions p\n",
    "    JOIN products pr ON p.applicable_category = pr.category\n",
    "    WHERE pr.product_id = NEW.product_id\n",
    "      AND NEW.order_date BETWEEN p.start_date AND p.end_date\n",
    "    LIMIT 1;\n",
    "\n",
    "    -- If no promotion is found, set promo_id to 1 (No Promotion)\n",
    "    IF NEW.promo_id IS NULL THEN\n",
    "        NEW.promo_id := 1;\n",
    "    END IF;\n",
    "\n",
    "    RETURN NEW;\n",
    "END;\n",
    "$$;\n",
    "\n",
    "-- Trigger Definition\n",
    "CREATE TRIGGER trg_assign_promo_id\n",
    "BEFORE INSERT ON sales\n",
    "FOR EACH ROW\n",
    "EXECUTE FUNCTION assign_promo_id();"
   ]
  },
  {
   "cell_type": "markdown",
   "id": "3c8dc838",
   "metadata": {},
   "source": [
    "- Example of Trigger in Action:"
   ]
  },
  {
   "cell_type": "code",
   "execution_count": null,
   "id": "ea81cd6d",
   "metadata": {
    "vscode": {
     "languageId": "sql"
    }
   },
   "outputs": [],
   "source": [
    "INSERT INTO sales (row_id, order_id, order_date, ship_date, customer_id, postal_code, product_id, sales)\n",
    "VALUES (1001, 'CA-2023-123456', '2023-08-15', '2023-08-20', 'CUST123', '12345', 'PROD456', 100.00);\n",
    "\n",
    "-- The trigger will automatically assign the respective promo_id if the order_date falls within the promotion period."
   ]
  },
  {
   "cell_type": "markdown",
   "id": "7ca5b32f",
   "metadata": {
    "vscode": {
     "languageId": "sql"
    }
   },
   "source": [
    "# View\n",
    "\n",
    "### 1. sales_overview\n",
    "Creating a view in PostgreSQL is a great way to simplify complex queries and provide a reusable, virtual table for analysis. Below is an example of a view that combines data from the sales, customers, products, locations, promotions, and ship_modes tables to provide a comprehensive overview of sales data."
   ]
  },
  {
   "cell_type": "code",
   "execution_count": null,
   "id": "eb4bb241",
   "metadata": {
    "vscode": {
     "languageId": "sql"
    }
   },
   "outputs": [],
   "source": [
    "CREATE OR REPLACE VIEW sales_overview AS\n",
    "SELECT\n",
    "    s.row_id,\n",
    "    s.order_id,\n",
    "    s.order_date,\n",
    "    s.ship_date,\n",
    "    s.sales,\n",
    "    c.customer_id,\n",
    "    c.customer_name,\n",
    "    c.segment AS customer_segment,\n",
    "    p.product_id,\n",
    "    p.product_name,\n",
    "    p.category AS product_category,\n",
    "    p.sub_category AS product_sub_category,\n",
    "    l.postal_code,\n",
    "    l.city,\n",
    "    l.state,\n",
    "    l.region,\n",
    "    l.country,\n",
    "    sm.ship_mode_name,\n",
    "    pr.promo_name,\n",
    "    pr.discount_pct,\n",
    "    pr.start_date AS promo_start_date,\n",
    "    pr.end_date AS promo_end_date\n",
    "FROM\n",
    "    sales s\n",
    "    JOIN customers c ON s.customer_id = c.customer_id\n",
    "    JOIN products p ON s.product_id = p.product_id\n",
    "    JOIN locations l ON s.postal_code = l.postal_code\n",
    "    JOIN ship_modes sm ON s.ship_mode_id = sm.ship_mode_id\n",
    "    LEFT JOIN promotions pr ON s.promo_id = pr.promo_id;"
   ]
  },
  {
   "cell_type": "markdown",
   "id": "9e3d7b9c",
   "metadata": {},
   "source": [
    "### Explanation of the View\n",
    "\n",
    "#### Tables Joined:\n",
    "- **`sales`**: Core table containing transactional data.\n",
    "- **`customers`**: Provides customer details (`customer_name`, `segment`).\n",
    "- **`products`**: Provides product details (`product_name`, `category`, `sub_category`).\n",
    "- **`locations`**: Provides geographical details (`city`, `state`, `region`, `country`).\n",
    "- **`ship_modes`**: Provides shipping method details (`ship_mode_name`).\n",
    "- **`promotions`**: Provides promotion details (`promo_name`, `discount_pct`, `start_date`, `end_date`).\n",
    "\n",
    "#### Columns Included:\n",
    "- **Sales data**: `row_id`, `order_id`, `order_date`, `ship_date`, `sales`.\n",
    "- **Customer data**: `customer_id`, `customer_name`, `customer_segment`.\n",
    "- **Product data**: `product_id`, `product_name`, `product_category`, `product_sub_category`.\n",
    "- **Location data**: `postal_code`, `city`, `state`, `region`, `country`.\n",
    "- **Shipping data**: `ship_mode_name`.\n",
    "- **Promotion data**: `promo_name`, `discount_pct`, `promo_start_date`, `promo_end_date`.\n",
    "\n",
    "#### Left Join for Promotions:\n",
    "A `LEFT JOIN` is used for the `promotions` table to ensure that sales without promotions are still included in the view."
   ]
  },
  {
   "cell_type": "code",
   "execution_count": null,
   "id": "3a5d5b36",
   "metadata": {
    "vscode": {
     "languageId": "sql"
    }
   },
   "outputs": [],
   "source": [
    "-- Example Queries Using the View:\n",
    "\n",
    "-- Get all sales for the \"Office Supplies\" category\n",
    "SELECT *\n",
    "FROM sales_overview\n",
    "WHERE product_category = 'Office Supplies';\n",
    "\n",
    "-- Get total sales by region\n",
    "SELECT region, SUM(sales) AS total_sales\n",
    "FROM sales_overview\n",
    "GROUP BY region;\n",
    "\n",
    "\n",
    "-- Get sales with promotions applied\n",
    "SELECT *\n",
    "FROM sales_overview\n",
    "WHERE promo_name IS NOT NULL;"
   ]
  },
  {
   "cell_type": "markdown",
   "id": "809f8c13-1198-45c5-bf39-26b3bcfe70b1",
   "metadata": {},
   "source": [
    "\n",
    "## Final Notes\n",
    "\n",
    "### Key Achievements\n",
    "1. **Stored Procedures**:\n",
    "   - Procedures like `calculate_total_sales_for_promotion` and `update_promo_id_for_category` encapsulate business logic for calculating sales and updating promotions.\n",
    "   - These procedures make it easy to perform repetitive tasks and ensure consistency across the database.\n",
    "\n",
    "2. **Triggers**:\n",
    "   - The `assign_promo_id` trigger automates the assignment of promotions during data insertion, ensuring that the correct `promo_id` is applied based on the product category and order date.\n",
    "\n",
    "3. **Views**:\n",
    "   - The `sales_overview` view provides a comprehensive and reusable summary of sales data, combining information from multiple tables into a single virtual table.\n",
    "   - This simplifies complex queries and makes it easier to generate reports and insights.\n",
    "\n",
    "### Future Enhancements\n",
    "- **Indexes**: Add indexes on frequently queried columns (e.g., `order_date`, `customer_id`) to improve query performance.\n",
    "- **Data Validation**: Add `CHECK` constraints to enforce data quality (e.g., `sales > 0`).\n",
    "- **Audit Columns**: Include `created_at` and `updated_at` columns to track changes over time.\n",
    "- **Advanced Analytics**: Create additional views and procedures to support advanced analytics, such as sales trends and customer segmentation."
   ]
  }
 ],
 "metadata": {
  "kernelspec": {
   "display_name": "base",
   "language": "python",
   "name": "python3"
  },
  "language_info": {
   "codemirror_mode": {
    "name": "ipython",
    "version": 3
   },
   "file_extension": ".py",
   "mimetype": "text/x-python",
   "name": "python",
   "nbconvert_exporter": "python",
   "pygments_lexer": "ipython3",
   "version": "3.12.7"
  }
 },
 "nbformat": 4,
 "nbformat_minor": 5
}
