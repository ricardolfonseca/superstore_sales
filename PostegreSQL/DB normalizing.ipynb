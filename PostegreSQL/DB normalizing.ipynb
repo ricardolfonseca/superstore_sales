{
 "cells": [
  {
   "cell_type": "markdown",
   "id": "9b520594-2c8d-4eab-b9ab-02fdac773e49",
   "metadata": {},
   "source": [
    "# Normalizing and Preparing the Superstore Sales Database\n",
    "This notebook documents the process of normalizing the `sales_data` table into a structured relational database. It includes the creation of normalized tables, the addition of constraints, and the setup of relationships between tables."
   ]
  },
  {
   "cell_type": "markdown",
   "id": "bea181b5",
   "metadata": {},
   "source": [
    "## Running Queries in pgAdmin\n",
    "\n",
    "The following SQL queries are designed to explore the `superstore_sales` database. Before running these queries, the user must ensure the database is properly set up by following these steps:\n",
    "\n",
    "### Setup Instructions:\n",
    "1. Run the `main.py` script to create and load the initial `sales_data` table into PostgreSQL.\n",
    "2. Open **pgAdmin** and connect to the `superstore_sales` database using the details below.\n",
    "\n",
    "### Query Execution:\n",
    "Once the database setup is complete, you can use the provided SQL queries in **pgAdmin**. \n",
    "\n",
    "### Database Details:\n",
    "- **Database Name**: `superstore_sales`\n",
    "- **Host**: `localhost`\n",
    "- **Port**: `5432`\n",
    "- **Table**: `sales_data`"
   ]
  },
  {
   "cell_type": "markdown",
   "id": "d62fe8cf-d438-4c04-a811-bb35806b064e",
   "metadata": {},
   "source": [
    "## Step 1: Verify `sales_data` Table\n",
    "Before proceeding with normalization, we ensure the `sales_data` table exists and contains data. This step verifies the initial table created by the Python script is available in the PostgreSQL database."
   ]
  },
  {
   "cell_type": "code",
   "execution_count": null,
   "id": "7e7cae78-10ec-455b-a24b-39657bc30c04",
   "metadata": {
    "vscode": {
     "languageId": "sql"
    }
   },
   "outputs": [],
   "source": [
    "-- Check if the `sales_data` table exists\n",
    "SELECT EXISTS (\n",
    "    SELECT FROM information_schema.tables \n",
    "    WHERE table_name = 'sales_data'\n",
    ");\n",
    "\n",
    "-- Check the number of rows in `sales_data`\n",
    "SELECT COUNT(*) AS total_rows FROM sales_data;\n",
    "\n",
    "-- Preview the first 10 rows of the table\n",
    "SELECT * FROM sales_data LIMIT 10;"
   ]
  },
  {
   "cell_type": "markdown",
   "id": "c2ba5a71-dbae-42ff-bf6a-fb75d5c9b1a6",
   "metadata": {},
   "source": [
    "## Step 1: Creating Normalized Tables\n",
    "We normalize the `sales_data` table by breaking it into six related tables:\n",
    "1. **`customers`**: Contains customer information.\n",
    "2. **`locations`**: Stores geographical data.\n",
    "3. **`products`**: Contains product details.\n",
    "4. **`sales`**: Links orders, customers, products, and locations with transactional data.\n",
    "5. **`ship_modes`**: standardize shipping methods instead of keeping them only as attributes in the `sales` table.\n",
    "6. **`promotions`**: details about promotions, which can be linked to the `sales` table to analyze the impact of discounts, seasonal offers, and customer engagement strategies"
   ]
  },
  {
   "cell_type": "code",
   "execution_count": null,
   "id": "73ec0b4d-433b-4a2a-a76e-be32ca6d1467",
   "metadata": {
    "vscode": {
     "languageId": "sql"
    }
   },
   "outputs": [],
   "source": [
    "CREATE TABLE customers AS\n",
    "SELECT DISTINCT customer_id, customer_name, segment\n",
    "FROM sales_data;\n",
    "\n",
    "CREATE TABLE locations AS\n",
    "SELECT DISTINCT postal_code, city, state, region, country\n",
    "FROM sales_data;\n",
    "\n",
    "CREATE TABLE products AS\n",
    "SELECT DISTINCT product_id, product_name, sub_category, category\n",
    "FROM sales_data;\n",
    "\n",
    "CREATE TABLE sales AS\n",
    "SELECT row_id, order_id, order_date, ship_date, ship_mode, customer_id, postal_code, product_id, sales\n",
    "FROM sales_data;\n",
    "\n",
    "-- Ship_modes table will be created extracting the unique values from sales table\n",
    "CREATE TABLE ship_modes (\n",
    "    ship_mode_id SERIAL PRIMARY KEY,\n",
    "    ship_mode_name TEXT UNIQUE NOT NULL\n",
    ");\n",
    "\n",
    "INSERT INTO ship_modes (ship_mode_name)\n",
    "SELECT DISTINCT ship_mode FROM sales;\n",
    "\n",
    "-- Promotions table will be created manually with sample data\n",
    "-- The primary key constraints can also be added upon table creation as shown \n",
    "CREATE TABLE promotions (\n",
    "    promo_id SERIAL PRIMARY KEY,\n",
    "    promo_name VARCHAR(100) NOT NULL,\n",
    "    discount_pct DECIMAL(5,2) CHECK (discount_pct BETWEEN 0 AND 100),\n",
    "    start_date DATE NOT NULL,\n",
    "    end_date DATE NOT NULL,\n",
    "    applicable_category VARCHAR(50) NOT NULL\n",
    ");\n",
    "\n",
    "INSERT INTO promotions (promotion_id, promo_name, discount_pct, start_date, end_date, applicable_category) \n",
    "VALUES \n",
    "    (1, 'No Promotion', 0.00, NULL, NULL, 'All Categories'),\n",
    "    (2, 'Black Friday', 30.00, '2023-11-24', '2023-11-26', 'All Categories'),\n",
    "    (3, 'Back to School', 15.00, '2023-08-01', '2023-08-31', 'Office Supplies'),\n",
    "    (4, 'Tech Week', 20.00, '2023-09-15', '2023-09-22', 'Technology');\n",
    "\n",
    "-- Sales table is updated with promo_id = 1 for all rows\n",
    "UPDATE sales\n",
    "SET promo_id = 1;"
   ]
  },
  {
   "cell_type": "markdown",
   "id": "fab860a4-363a-4f94-b6f9-69b255d08850",
   "metadata": {},
   "source": [
    "## Step 2: Removing Duplicates and Adding Primary Key Constraints\n",
    "Primary keys are added to uniquely identify rows in each remaining table:\n",
    "- `customer_id` for `customers`\n",
    "- `postal_code` for `locations`\n",
    "- `product_id` for `products`\n",
    "- `row_id` for `sales`"
   ]
  },
  {
   "cell_type": "code",
   "execution_count": null,
   "id": "167ad4e6-a4d5-4459-b554-3c9535e18860",
   "metadata": {
    "vscode": {
     "languageId": "sql"
    }
   },
   "outputs": [],
   "source": [
    "ALTER TABLE customers ADD PRIMARY KEY (customer_id);\n",
    "\n",
    "-- Before adding primary keys to locations and products, we remove duplicate rows to ensure uniqueness\n",
    "\n",
    "DELETE FROM locations\n",
    "WHERE ctid NOT IN (\n",
    "    SELECT MIN(ctid)\n",
    "    FROM locations\n",
    "    GROUP BY postal_code\n",
    ");\n",
    "\n",
    "ALTER TABLE locations ADD PRIMARY KEY (postal_code);\n",
    "\n",
    "DELETE FROM products\n",
    "WHERE ctid NOT IN (\n",
    "    SELECT MIN(ctid)\n",
    "    FROM products\n",
    "    GROUP BY product_id\n",
    ");\n",
    "\n",
    "ALTER TABLE products ADD PRIMARY KEY (product_id);\n",
    "ALTER TABLE sales ADD PRIMARY KEY (row_id);\n",
    "\n",
    "ALTER TABLE sales \n",
    "ADD COLUMN ship_mode_id INT,\n",
    "ADD COLUMN promo_id INT;"
   ]
  },
  {
   "cell_type": "markdown",
   "id": "3581baba",
   "metadata": {},
   "source": [
    "## Step 3: Update `sales` Table to Link to `ship_modes`\n",
    "Replace text values with corresponding `ship_mode_id` from `ship_modes`."
   ]
  },
  {
   "cell_type": "code",
   "execution_count": null,
   "id": "c1ec7545",
   "metadata": {
    "vscode": {
     "languageId": "sql"
    }
   },
   "outputs": [],
   "source": [
    "UPDATE sales\n",
    "SET ship_mode_id = (SELECT ship_mode_id \n",
    "                    FROM ship_modes \n",
    "                    WHERE ship_modes.ship_mode_name = sales.ship_mode);"
   ]
  },
  {
   "cell_type": "markdown",
   "id": "e5123d41",
   "metadata": {},
   "source": [
    "## Step 4: Drop the Old `ship_mode` Column\n",
    "After ensuring `ship_mode_id` is correctly populated, remove the redundant `ship_mode` text column."
   ]
  },
  {
   "cell_type": "code",
   "execution_count": null,
   "id": "32808525",
   "metadata": {
    "vscode": {
     "languageId": "sql"
    }
   },
   "outputs": [],
   "source": [
    "ALTER TABLE sales DROP COLUMN ship_mode;"
   ]
  },
  {
   "cell_type": "markdown",
   "id": "596a0dd8-0920-48f4-b46a-e2959cc72778",
   "metadata": {},
   "source": [
    "## Step 5: Adding Foreign Key Constraints\n",
    "Foreign keys enforce relationships between tables:\n",
    "- `customer_id` in `sales` references `customers`\n",
    "- `postal_code` in `sales` references `locations`\n",
    "- `product_id` in `sales` references `products`\n",
    "- `ship_mode_id` in `sales` references `ship_modes`\n",
    "- `promo_id` in `sales` references `promotions`"
   ]
  },
  {
   "cell_type": "code",
   "execution_count": null,
   "id": "050f0607-6b1d-4613-bd8c-e85b79e32760",
   "metadata": {
    "vscode": {
     "languageId": "sql"
    }
   },
   "outputs": [],
   "source": [
    "ALTER TABLE sales\n",
    "ADD CONSTRAINT fk_customer FOREIGN KEY (customer_id) REFERENCES customers(customer_id);\n",
    "\n",
    "ALTER TABLE sales\n",
    "ADD CONSTRAINT fk_location FOREIGN KEY (postal_code) REFERENCES locations(postal_code);\n",
    "\n",
    "ALTER TABLE sales\n",
    "ADD CONSTRAINT fk_product FOREIGN KEY (product_id) REFERENCES products(product_id);\n",
    "\n",
    "ALTER TABLE sales \n",
    "ADD CONSTRAINT fk_ship_mode FOREIGN KEY (ship_mode_id) REFERENCES ship_modes(ship_mode_id);\n",
    "\n",
    "ALTER TABLE sales \n",
    "ADD CONSTRAINT fk_promo FOREIGN KEY (promo_id) REFERENCES promotions(promo_id);"
   ]
  },
  {
   "cell_type": "markdown",
   "id": "ce4b8e78-64a4-4334-bfcb-ab615362f36b",
   "metadata": {},
   "source": [
    "## Step 6: Dropping the Raw Table\n",
    "Finally, we drop the original `sales_data` table, as it is no longer needed."
   ]
  },
  {
   "cell_type": "code",
   "execution_count": null,
   "id": "3effb6d8-30d3-4b14-bf85-0cc62c6b56b9",
   "metadata": {
    "vscode": {
     "languageId": "sql"
    }
   },
   "outputs": [],
   "source": [
    "DROP TABLE sales_data;"
   ]
  },
  {
   "cell_type": "markdown",
   "id": "809f8c13-1198-45c5-bf39-26b3bcfe70b1",
   "metadata": {},
   "source": [
    "## Final Notes\n",
    "This notebook documents the full process of database normalization, ensuring a structured and efficient relational model for analysis and reporting. The resulting database is optimized for querying and integration with analytical tools."
   ]
  }
 ],
 "metadata": {
  "kernelspec": {
   "display_name": "base",
   "language": "python",
   "name": "python3"
  },
  "language_info": {
   "codemirror_mode": {
    "name": "ipython",
    "version": 3
   },
   "file_extension": ".py",
   "mimetype": "text/x-python",
   "name": "python",
   "nbconvert_exporter": "python",
   "pygments_lexer": "ipython3",
   "version": "3.12.7"
  }
 },
 "nbformat": 4,
 "nbformat_minor": 5
}
