{
 "cells": [
  {
   "cell_type": "markdown",
   "id": "9b520594-2c8d-4eab-b9ab-02fdac773e49",
   "metadata": {},
   "source": [
    "# Normalizing and Preparing the Superstore Sales Database\n",
    "This notebook documents the process of normalizing the `sales_data` table into a structured relational database. It includes the creation of normalized tables, the addition of constraints, and the setup of relationships between tables."
   ]
  },
  {
   "cell_type": "markdown",
   "id": "bea181b5",
   "metadata": {},
   "source": [
    "## Running Queries in pgAdmin\n",
    "\n",
    "The following SQL queries are designed to explore the `superstore_sales` database. Before running these queries, the user must ensure the database is properly set up by following these steps:\n",
    "\n",
    "### Setup Instructions:\n",
    "1. Run the `main.py` script to create and load the initial `sales_data` table into PostgreSQL.\n",
    "2. Open **pgAdmin** and connect to the `superstore_sales` database using the details below.\n",
    "\n",
    "### Query Execution:\n",
    "Once the database setup is complete, you can use the provided SQL queries in **pgAdmin**. \n",
    "\n",
    "### Database Details:\n",
    "- **Database Name**: `superstore_sales`\n",
    "- **Host**: `localhost`\n",
    "- **Port**: `5432`\n",
    "- **Table**: `sales_data`"
   ]
  },
  {
   "cell_type": "markdown",
   "id": "d62fe8cf-d438-4c04-a811-bb35806b064e",
   "metadata": {},
   "source": [
    "## Step 1: Verify `sales_data` Table\n",
    "Before proceeding with normalization, we ensure the `sales_data` table exists and contains data. This step verifies the initial table created by the Python script is available in the PostgreSQL database."
   ]
  },
  {
   "cell_type": "code",
   "execution_count": null,
   "id": "7e7cae78-10ec-455b-a24b-39657bc30c04",
   "metadata": {
    "vscode": {
     "languageId": "sql"
    }
   },
   "outputs": [],
   "source": [
    "-- Check if the `sales_data` table exists\n",
    "SELECT EXISTS (\n",
    "    SELECT FROM information_schema.tables \n",
    "    WHERE table_name = 'sales_data'\n",
    ");\n",
    "\n",
    "-- Check the number of rows in `sales_data`\n",
    "SELECT COUNT(*) AS total_rows FROM sales_data;\n",
    "\n",
    "-- Preview the first 10 rows of the table\n",
    "SELECT * FROM sales_data LIMIT 10;"
   ]
  },
  {
   "cell_type": "markdown",
   "id": "c2ba5a71-dbae-42ff-bf6a-fb75d5c9b1a6",
   "metadata": {},
   "source": [
    "## Step 1: Creating Normalized Tables\n",
    "We normalize the `sales_data` table by breaking it into four related tables:\n",
    "1. **`customers`**: Contains customer information.\n",
    "2. **`locations`**: Stores geographical data.\n",
    "3. **`products`**: Contains product details.\n",
    "4. **`sales`**: Links orders, customers, products, and locations with transactional data."
   ]
  },
  {
   "cell_type": "code",
   "execution_count": null,
   "id": "73ec0b4d-433b-4a2a-a76e-be32ca6d1467",
   "metadata": {
    "vscode": {
     "languageId": "sql"
    }
   },
   "outputs": [],
   "source": [
    "CREATE TABLE customers AS\n",
    "SELECT DISTINCT customer_id, customer_name, segment\n",
    "FROM sales_data;\n",
    "\n",
    "CREATE TABLE locations AS\n",
    "SELECT DISTINCT postal_code, city, state, region, country\n",
    "FROM sales_data;\n",
    "\n",
    "CREATE TABLE products AS\n",
    "SELECT DISTINCT product_id, product_name, sub_category, category\n",
    "FROM sales_data;\n",
    "\n",
    "CREATE TABLE sales AS\n",
    "SELECT row_id, order_id, order_date, ship_date, ship_mode, customer_id, postal_code, product_id, sales\n",
    "FROM sales_data;"
   ]
  },
  {
   "cell_type": "markdown",
   "id": "fab860a4-363a-4f94-b6f9-69b255d08850",
   "metadata": {},
   "source": [
    "## Step 3: Adding Primary Key Constraints\n",
    "Primary keys are added to uniquely identify rows in each table:\n",
    "- `customer_id` for `customers`\n",
    "- `postal_code` for `locations`\n",
    "- `product_id` for `products`\n",
    "- `row_id` for `sales`"
   ]
  },
  {
   "cell_type": "code",
   "execution_count": null,
   "id": "167ad4e6-a4d5-4459-b554-3c9535e18860",
   "metadata": {
    "vscode": {
     "languageId": "sql"
    }
   },
   "outputs": [],
   "source": [
    "ALTER TABLE customers ADD PRIMARY KEY (customer_id);"
   ]
  },
  {
   "cell_type": "markdown",
   "id": "8a921ffe-30f0-4214-9151-ed8f947d0756",
   "metadata": {},
   "source": [
    "## Step 4: Removing Duplicates\n",
    "Before adding primary keys to `locations` and `products`, we remove duplicate rows to ensure uniqueness."
   ]
  },
  {
   "cell_type": "code",
   "execution_count": null,
   "id": "49bf4bd5-b235-4dff-9258-cecf49aa5947",
   "metadata": {
    "vscode": {
     "languageId": "sql"
    }
   },
   "outputs": [],
   "source": [
    "DELETE FROM locations\n",
    "WHERE ctid NOT IN (\n",
    "    SELECT MIN(ctid)\n",
    "    FROM locations\n",
    "    GROUP BY postal_code\n",
    ");\n",
    "\n",
    "ALTER TABLE locations ADD PRIMARY KEY (postal_code);\n",
    "\n",
    "DELETE FROM products\n",
    "WHERE ctid NOT IN (\n",
    "    SELECT MIN(ctid)\n",
    "    FROM products\n",
    "    GROUP BY product_id\n",
    ");\n",
    "\n",
    "ALTER TABLE products ADD PRIMARY KEY (product_id);\n",
    "ALTER TABLE sales ADD PRIMARY KEY (row_id);"
   ]
  },
  {
   "cell_type": "markdown",
   "id": "596a0dd8-0920-48f4-b46a-e2959cc72778",
   "metadata": {},
   "source": [
    "## Step 5: Adding Foreign Key Constraints\n",
    "Foreign keys enforce relationships between tables:\n",
    "- `customer_id` in `sales` references `customers`\n",
    "- `postal_code` in `sales` references `locations`\n",
    "- `product_id` in `sales` references `products`"
   ]
  },
  {
   "cell_type": "code",
   "execution_count": null,
   "id": "050f0607-6b1d-4613-bd8c-e85b79e32760",
   "metadata": {
    "vscode": {
     "languageId": "sql"
    }
   },
   "outputs": [],
   "source": [
    "ALTER TABLE sales\n",
    "ADD CONSTRAINT fk_customer FOREIGN KEY (customer_id) REFERENCES customers(customer_id);\n",
    "\n",
    "ALTER TABLE sales\n",
    "ADD CONSTRAINT fk_location FOREIGN KEY (postal_code) REFERENCES locations(postal_code);\n",
    "\n",
    "ALTER TABLE sales\n",
    "ADD CONSTRAINT fk_product FOREIGN KEY (product_id) REFERENCES products(product_id);"
   ]
  },
  {
   "cell_type": "markdown",
   "id": "ce4b8e78-64a4-4334-bfcb-ab615362f36b",
   "metadata": {},
   "source": [
    "## Step 6: Dropping the Raw Table\n",
    "Finally, we drop the original `sales_data` table, as it is no longer needed."
   ]
  },
  {
   "cell_type": "code",
   "execution_count": null,
   "id": "3effb6d8-30d3-4b14-bf85-0cc62c6b56b9",
   "metadata": {
    "vscode": {
     "languageId": "sql"
    }
   },
   "outputs": [],
   "source": [
    "DROP TABLE sales_data;"
   ]
  },
  {
   "cell_type": "markdown",
   "id": "809f8c13-1198-45c5-bf39-26b3bcfe70b1",
   "metadata": {},
   "source": [
    "## Final Notes\n",
    "This notebook documents the full process of database normalization, ensuring a structured and efficient relational model for analysis and reporting. The resulting database is optimized for querying and integration with analytical tools."
   ]
  }
 ],
 "metadata": {
  "kernelspec": {
   "display_name": "base",
   "language": "python",
   "name": "python3"
  },
  "language_info": {
   "codemirror_mode": {
    "name": "ipython",
    "version": 3
   },
   "file_extension": ".py",
   "mimetype": "text/x-python",
   "name": "python",
   "nbconvert_exporter": "python",
   "pygments_lexer": "ipython3",
   "version": "3.12.7"
  }
 },
 "nbformat": 4,
 "nbformat_minor": 5
}
